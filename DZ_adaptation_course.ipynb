{
 "cells": [
  {
   "cell_type": "code",
   "execution_count": 36,
   "id": "09dc8a15",
   "metadata": {},
   "outputs": [],
   "source": [
    "import numpy as np\n",
    "import time\n",
    "import matplotlib.pyplot as plt\n",
    "import random"
   ]
  },
  {
   "cell_type": "markdown",
   "id": "04f34b3f",
   "metadata": {},
   "source": [
    "# Задача 1 (1 балл)\n",
    "\n",
    "\n",
    "### 1. Создайте с помощью np.random.randint numpy массив из 20-ти рандомных чисел. Посчитайте с помощью методов numpy и выведите на экран:\n",
    "\n",
    "- среднее значение в массиве\n",
    "- минимальное значение в массиве\n",
    "- максимальное значение в массиве\n",
    "- индекс минимального элемента в массиве\n",
    "- массив, который содержит те элементы исходного массива, которые больше 10\n"
   ]
  },
  {
   "cell_type": "code",
   "execution_count": 3,
   "id": "010d51be",
   "metadata": {},
   "outputs": [],
   "source": [
    "# Создаем массив из 20 случайных целых чисел от 0 до 20\n",
    "array = np.random.randint(0, 21, size=20)"
   ]
  },
  {
   "cell_type": "code",
   "execution_count": 4,
   "id": "de3d27e5",
   "metadata": {},
   "outputs": [
    {
     "name": "stdout",
     "output_type": "stream",
     "text": [
      "Среднее значение: 9.9\n"
     ]
    }
   ],
   "source": [
    "mean_value = np.mean(array)\n",
    "print(\"Среднее значение:\", mean_value)"
   ]
  },
  {
   "cell_type": "code",
   "execution_count": 6,
   "id": "2cd1394c",
   "metadata": {},
   "outputs": [
    {
     "name": "stdout",
     "output_type": "stream",
     "text": [
      "Минимальное значение: 0\n"
     ]
    }
   ],
   "source": [
    "# Находим минимальное значение\n",
    "min_value = np.min(array)\n",
    "print(\"Минимальное значение:\", min_value)"
   ]
  },
  {
   "cell_type": "code",
   "execution_count": 7,
   "id": "300d6b89",
   "metadata": {},
   "outputs": [
    {
     "name": "stdout",
     "output_type": "stream",
     "text": [
      "Максимальное значение: 20\n"
     ]
    }
   ],
   "source": [
    "# Находим максимальное значение\n",
    "max_value = np.max(array)\n",
    "print(\"Максимальное значение:\", max_value)"
   ]
  },
  {
   "cell_type": "code",
   "execution_count": 8,
   "id": "ee2f57d7",
   "metadata": {},
   "outputs": [
    {
     "name": "stdout",
     "output_type": "stream",
     "text": [
      "Индекс минимального элемента: 8\n"
     ]
    }
   ],
   "source": [
    "# Находим индекс минимального элемента\n",
    "min_index = np.argmin(array)\n",
    "print(\"Индекс минимального элемента:\", min_index)"
   ]
  },
  {
   "cell_type": "code",
   "execution_count": 9,
   "id": "3a524fbf",
   "metadata": {},
   "outputs": [
    {
     "name": "stdout",
     "output_type": "stream",
     "text": [
      "Элементы, больше 10: [14 20 20 17 13 14 11 13 13 19]\n"
     ]
    }
   ],
   "source": [
    "# Создаем массив, который содержит элементы больше 10\n",
    "greater_than_10 = array[array > 10]\n",
    "print(\"Элементы, больше 10:\", greater_than_10)"
   ]
  },
  {
   "cell_type": "markdown",
   "id": "0e91e059",
   "metadata": {},
   "source": [
    "### 2. Сгенерируйте рандомный массив b размера 3x1.\n",
    "- Сгенерируйте матрицу С размера 3x3.\n",
    "- Решите систему Cx = b с помощью numpy.linalg.solve \n",
    "- Подумайте/погуглите, в каком случае numpy.linalg.solve вернет ошибку LinAlgError. Воспроизведите этот случай."
   ]
  },
  {
   "cell_type": "code",
   "execution_count": 10,
   "id": "ad0091e8",
   "metadata": {},
   "outputs": [],
   "source": [
    " #Генерируем случайный массив b размера 3x1\n",
    "b = np.random.randint(0, 10, size=(3, 1))"
   ]
  },
  {
   "cell_type": "code",
   "execution_count": 11,
   "id": "cc65fd8d",
   "metadata": {},
   "outputs": [],
   "source": [
    "# Генерируем матрицу C размера 3x3\n",
    "C = np.random.randint(1, 10, size=(3, 3))"
   ]
  },
  {
   "cell_type": "code",
   "execution_count": 12,
   "id": "c65ef97e",
   "metadata": {},
   "outputs": [
    {
     "name": "stdout",
     "output_type": "stream",
     "text": [
      "Массив b:\n",
      " [[9]\n",
      " [0]\n",
      " [1]]\n",
      "Матрица C:\n",
      " [[2 6 1]\n",
      " [9 1 9]\n",
      " [9 6 8]]\n"
     ]
    }
   ],
   "source": [
    "# Выводим массив b и матрицу C\n",
    "print(\"Массив b:\\n\", b)\n",
    "print(\"Матрица C:\\n\", C)"
   ]
  },
  {
   "cell_type": "code",
   "execution_count": 13,
   "id": "164edc16",
   "metadata": {},
   "outputs": [
    {
     "name": "stdout",
     "output_type": "stream",
     "text": [
      "Решение системы Cx = b:\n",
      " [[-51.57142857]\n",
      " [ 10.28571429]\n",
      " [ 50.42857143]]\n"
     ]
    }
   ],
   "source": [
    "# Решаем систему Cx = b\n",
    "try:\n",
    "    x = np.linalg.solve(C, b)\n",
    "    print(\"Решение системы Cx = b:\\n\", x)\n",
    "except np.linalg.LinAlgError as e:\n",
    "    print(\"Ошибка при решении системы:\", e)"
   ]
  },
  {
   "cell_type": "markdown",
   "id": "7a6817ba",
   "metadata": {},
   "source": [
    "numpy.linalg.solve вернет ошибку LinAlgError, если матрица \n",
    "C вырождена (то есть, если ее определитель равен нулю). \n",
    "Это происходит, когда строки (или столбцы) матрицы линейно зависимы."
   ]
  },
  {
   "cell_type": "code",
   "execution_count": 18,
   "id": "ac33e0e0",
   "metadata": {},
   "outputs": [],
   "source": [
    "#Пример, вызывающий ошибку:\n",
    "# Создаем вырожденную матрицу C (линейно зависимые строки) \n",
    "C = np.array([[1, 2, 3],\n",
    "             [2, 4, 6],  \n",
    "             [3, 6, 9]]) "
   ]
  },
  {
   "cell_type": "code",
   "execution_count": 19,
   "id": "c1df8150",
   "metadata": {},
   "outputs": [],
   "source": [
    "# Генерируем случайный массив b\n",
    "b = np.random.randint(0, 10, size=(3, 1))"
   ]
  },
  {
   "cell_type": "code",
   "execution_count": 20,
   "id": "e2a3a5cf",
   "metadata": {},
   "outputs": [
    {
     "name": "stdout",
     "output_type": "stream",
     "text": [
      "Ошибка при решении системы для вырожденной матрицы: Singular matrix\n"
     ]
    }
   ],
   "source": [
    "# Пытаемся решить систему Cx = b\n",
    "try:\n",
    "    x = np.linalg.solve(C, b)\n",
    "except np.linalg.LinAlgError as e:\n",
    "    print(\"Ошибка при решении системы для вырожденной матрицы:\", e)"
   ]
  },
  {
   "cell_type": "markdown",
   "id": "22f6d4de",
   "metadata": {},
   "source": [
    "### 2.Задача"
   ]
  },
  {
   "cell_type": "code",
   "execution_count": 21,
   "id": "27372c1a",
   "metadata": {},
   "outputs": [],
   "source": [
    "#Ниже создаются две матрицы A, B."
   ]
  },
  {
   "cell_type": "code",
   "execution_count": 22,
   "id": "82f2d2ab",
   "metadata": {},
   "outputs": [],
   "source": [
    "A = np.array([[1, 2, 30], [2, 1, 3], [20, 1, 3]])\n",
    "B = np.array([[8, 12, 19], [12, 13, 11], [10, 2, 3]])"
   ]
  },
  {
   "cell_type": "markdown",
   "id": "cb803d3c",
   "metadata": {},
   "source": [
    "- Сумма матриц A и B\n",
    "- Произведение матриц A и B\n",
    "- Произведение матриц B и A\n",
    "- Определители матриц A и B\n",
    "- Матрицу AT+BA\n",
    "- Матрицу, обратную к матрице A"
   ]
  },
  {
   "cell_type": "code",
   "execution_count": 23,
   "id": "30793520",
   "metadata": {},
   "outputs": [
    {
     "name": "stdout",
     "output_type": "stream",
     "text": [
      "Сумма матриц A и B:\n",
      " [[ 9 14 49]\n",
      " [14 14 14]\n",
      " [30  3  6]]\n"
     ]
    }
   ],
   "source": [
    "#Сумма матриц A и B\n",
    "sum = A + B\n",
    "print(\"Сумма матриц A и B:\\n\", sum)"
   ]
  },
  {
   "cell_type": "code",
   "execution_count": 24,
   "id": "d639913c",
   "metadata": {},
   "outputs": [
    {
     "name": "stdout",
     "output_type": "stream",
     "text": [
      "Произведение матриц A и B (A * B):\n",
      " [[332  98 131]\n",
      " [ 58  43  58]\n",
      " [202 259 400]]\n"
     ]
    }
   ],
   "source": [
    "#Произведение матриц A и B\n",
    "mul_AB = np.dot(A, B)\n",
    "print(\"Произведение матриц A и B (A * B):\\n\", mul_AB)"
   ]
  },
  {
   "cell_type": "code",
   "execution_count": 25,
   "id": "ce4fcceb",
   "metadata": {},
   "outputs": [
    {
     "name": "stdout",
     "output_type": "stream",
     "text": [
      "Произведение матриц B и A (B * A):\n",
      " [[412  47 333]\n",
      " [258  48 432]\n",
      " [ 74  25 315]]\n"
     ]
    }
   ],
   "source": [
    "#Произведение матриц B и A\n",
    "mul_BA = np.dot(B, A)\n",
    "print(\"Произведение матриц B и A (B * A):\\n\", mul_BA)"
   ]
  },
  {
   "cell_type": "code",
   "execution_count": 27,
   "id": "ee5d09cf",
   "metadata": {},
   "outputs": [
    {
     "name": "stdout",
     "output_type": "stream",
     "text": [
      "Определитель матрицы A: -432.0\n",
      "Определитель матрицы B: -990.0\n"
     ]
    }
   ],
   "source": [
    "#Определители матриц A и B\n",
    "det_A = np.linalg.det(A).round(2)\n",
    "det_B = np.linalg.det(B).round(2)\n",
    "print(\"Определитель матрицы A:\", det_A)\n",
    "print(\"Определитель матрицы B:\", det_B)"
   ]
  },
  {
   "cell_type": "code",
   "execution_count": 28,
   "id": "e5498582",
   "metadata": {},
   "outputs": [
    {
     "name": "stdout",
     "output_type": "stream",
     "text": [
      "Матрица AT + BA:\n",
      " [[413  49 353]\n",
      " [260  49 433]\n",
      " [104  28 318]]\n"
     ]
    }
   ],
   "source": [
    "#Матрица AT + BA\n",
    "AT = A.T  # Транспонированная матрица A\n",
    "BA = np.dot(B, A)  # Произведение B и A\n",
    "result_AT_BA = AT + BA\n",
    "print(\"Матрица AT + BA:\\n\", result_AT_BA)"
   ]
  },
  {
   "cell_type": "code",
   "execution_count": 30,
   "id": "fcf8992d",
   "metadata": {},
   "outputs": [
    {
     "name": "stdout",
     "output_type": "stream",
     "text": [
      "Обратная матрица к A:\n",
      " [[ 0.         -0.05555556  0.05555556]\n",
      " [-0.125       1.38194444 -0.13194444]\n",
      " [ 0.04166667 -0.09027778  0.00694444]]\n"
     ]
    }
   ],
   "source": [
    "#Матрица, обратная к матрице A\n",
    "inv_A = np.linalg.inv(A)\n",
    "print(\"Обратная матрица к A:\\n\", inv_A)"
   ]
  },
  {
   "cell_type": "markdown",
   "id": "c51fd1e7",
   "metadata": {},
   "source": [
    "# Задача 3 (2 балла)\n",
    "### Сравните производительность операций умножения матриц с использованием библиотеки NumPy и стандартных списков Python для матриц размером от 2x2 до 100x100.\n",
    "\n",
    "- Сгенерируйте две матрицы A и B случайного размера от nxn, \n",
    "  заполненные случайными целыми числами от 1 до 50.\n",
    "- Используя библиотеку NumPy, выполните умножение матриц A и B. \n",
    "- Измерьте время выполнения операции.\n",
    "- Реализуйте функцию для умножения матриц с помощью стандартных списков Python. Измерьте время выполнения этой операции.\n",
    "- Сделайте вышеперечисленные пункты для n=2,...100 (используйте цикл).\n",
    "- Для какого-нибудь n проверьте, что результаты умножения (получившаяся матрица) совпадают.\n",
    "- Постройте график, где по оси X будет размер матрицы, по оси Y - время выполнения операции. Постройте два графика (для numpy и для стандартных списков) Сделайте выводы. В качестве шаблона можете использовать части кода ниже (а можете не использовать)"
   ]
  },
  {
   "cell_type": "code",
   "execution_count": 32,
   "id": "9c1fa29c",
   "metadata": {},
   "outputs": [],
   "source": [
    "# Функция для умножения матриц с использованием стандартных списков Python\n",
    "def matrix_multiply_python(A, B):\n",
    "    result = [[0] * len(B[0]) for _ in range(len(A))]\n",
    "    for i in range(len(A)):\n",
    "        for j in range(len(B[0])):\n",
    "            for k in range(len(B)):\n",
    "                result[i][j] += A[i][k] * B[k][j]\n",
    "    return result"
   ]
  },
  {
   "cell_type": "code",
   "execution_count": 33,
   "id": "9feedaba",
   "metadata": {},
   "outputs": [],
   "source": [
    "# Списки для хранения времени выполнения\n",
    "numpy_times = []\n",
    "python_times = []\n",
    "sizes = range(2, 101)"
   ]
  },
  {
   "cell_type": "code",
   "execution_count": 34,
   "id": "3d24e503",
   "metadata": {},
   "outputs": [],
   "source": [
    "# Цикл по размерам матриц\n",
    "for n in sizes:\n",
    "    # Генерация случайных матриц A и B\n",
    "    A = np.random.randint(1, 51, size=(n, n))\n",
    "    B = np.random.randint(1, 51, size=(n, n))\n",
    "\n",
    "    # Умножение с использованием NumPy\n",
    "    start_time = time.time()\n",
    "    C_numpy = np.dot(A, B)\n",
    "    numpy_times.append(time.time() - start_time)\n",
    "\n",
    "    # Умножение с использованием стандартных списков Python\n",
    "    A_list = A.tolist()  # Преобразование в стандартный список\n",
    "    B_list = B.tolist()  # Преобразование в стандартный список\n",
    "\n",
    "    start_time = time.time()\n",
    "    C_python = matrix_multiply_python(A_list, B_list)\n",
    "    python_times.append(time.time() - start_time)\n",
    "        # Проверка совпадения результатов для n=10 (можно изменить на любой размер)\n",
    "    if n == 10:\n",
    "        assert np.array_equal(C_numpy, C_python), \"Результаты не совпадают!\""
   ]
  },
  {
   "cell_type": "code",
   "execution_count": 37,
   "id": "ea543ff3",
   "metadata": {},
   "outputs": [
    {
     "data": {
      "image/png": "[encoded data removed]",
      "text/plain": [
       "<Figure size 1200x600 with 1 Axes>"
      ]
     },
     "metadata": {},
     "output_type": "display_data"
    }
   ],
   "source": [
    "# Построение графиков\n",
    "plt.figure(figsize=(12, 6))\n",
    "plt.plot(sizes, numpy_times, label='NumPy', color='blue')\n",
    "plt.plot(sizes, python_times, label='Стандартные списки', color='red')\n",
    "plt.xlabel('Размер матрицы n')\n",
    "plt.ylabel('Время выполнения (сек.)')\n",
    "plt.title('Сравнение производительности умножения матриц')\n",
    "plt.legend()\n",
    "plt.grid()\n",
    "plt.show()"
   ]
  },
  {
   "cell_type": "code",
   "execution_count": null,
   "id": "240a41fc",
   "metadata": {},
   "outputs": [],
   "source": []
  }
 ],
 "metadata": {
  "kernelspec": {
   "display_name": "Python 3 (ipykernel)",
   "language": "python",
   "name": "python3"
  },
  "language_info": {
   "codemirror_mode": {
    "name": "ipython",
    "version": 3
   },
   "file_extension": ".py",
   "mimetype": "text/x-python",
   "name": "python",
   "nbconvert_exporter": "python",
   "pygments_lexer": "ipython3",
   "version": "3.11.5"
  }
 },
 "nbformat": 4,
 "nbformat_minor": 5
}
