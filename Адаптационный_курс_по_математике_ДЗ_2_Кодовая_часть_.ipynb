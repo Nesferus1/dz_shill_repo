{
  "cells": [
    {
      "cell_type": "markdown",
      "metadata": {
        "id": "view-in-github",
        "colab_type": "text"
      },
      "source": [
        "<a href=\"https://colab.research.google.com/github/Nesferus1/dz_shill_repo/blob/main/%D0%90%D0%B4%D0%B0%D0%BF%D1%82%D0%B0%D1%86%D0%B8%D0%BE%D0%BD%D0%BD%D1%8B%D0%B9_%D0%BA%D1%83%D1%80%D1%81_%D0%BF%D0%BE_%D0%BC%D0%B0%D1%82%D0%B5%D0%BC%D0%B0%D1%82%D0%B8%D0%BA%D0%B5_%D0%94%D0%97_2_%D0%9A%D0%BE%D0%B4%D0%BE%D0%B2%D0%B0%D1%8F_%D1%87%D0%B0%D1%81%D1%82%D1%8C_.ipynb\" target=\"_parent\"><img src=\"https://colab.research.google.com/assets/colab-badge.svg\" alt=\"Open In Colab\"/></a>"
      ]
    },
    {
      "cell_type": "code",
      "execution_count": null,
      "metadata": {
        "id": "1CUi7JibJFms"
      },
      "outputs": [],
      "source": [
        "import numpy as np\n",
        "import matplotlib.pyplot as plt"
      ]
    },
    {
      "cell_type": "markdown",
      "metadata": {
        "id": "DByxpqmGHHp1"
      },
      "source": [
        "### Задача 1. (1 балл)\n",
        "\n",
        "Сделайте задания ниже, используя библиотеки numpy и/или scipy."
      ]
    },
    {
      "cell_type": "markdown",
      "metadata": {
        "id": "0VsmpAItHHp3"
      },
      "source": [
        "1. Найдите определитель матрицы\n",
        "\n",
        "$$ \\begin{pmatrix} 1 & 6 & 4 & 2 & 4 \\\\ 4 & 3 & 1 & 34 & 1 \\\\ 45 & 4 & 1 & 3 & 4 \\\\ 12 & 7 & 11 & 2 & 0 \\\\ 43 & 42 & 10 & 1 & 2 \\end{pmatrix}$$"
      ]
    },
    {
      "cell_type": "code",
      "source": [],
      "metadata": {
        "id": "fADpV22kTxc8"
      },
      "execution_count": null,
      "outputs": []
    },
    {
      "cell_type": "markdown",
      "metadata": {
        "id": "ovYSt30bHHp7"
      },
      "source": [
        "2. Найдите матрицу, обратную матрице\n",
        "\n",
        "$$ \\begin{pmatrix} 1 & 12 & 3 & 2 \\\\ 4 & 30 & 0 & 1 \\\\ 12 & 4 & 3 & 5 \\\\ 1 & 5 & 1 & 10  \\end{pmatrix}$$\n"
      ]
    },
    {
      "cell_type": "code",
      "source": [],
      "metadata": {
        "id": "BJC5FiMpTx3B"
      },
      "execution_count": null,
      "outputs": []
    },
    {
      "cell_type": "markdown",
      "metadata": {
        "id": "jAVkO5tYHHp9"
      },
      "source": [
        "3. Найдите собственные значения матрицы\n",
        "$$ \\begin{pmatrix} 1 & 10 & 3 & 12 \\\\ 3 & 20 & 0 & 2 \\\\ 11 & 3 & 3 & 6 \\\\ 1 & 8 & 1 & 10   \\end{pmatrix}$$\n"
      ]
    },
    {
      "cell_type": "code",
      "source": [],
      "metadata": {
        "id": "vLpgBnDKczRw"
      },
      "execution_count": null,
      "outputs": []
    },
    {
      "cell_type": "markdown",
      "metadata": {
        "id": "k43Pgpz5HHp-"
      },
      "source": [
        "4. Найдите спектральное разложение матрицы\n",
        "\n",
        "$$ \\begin{pmatrix} 1 & 10 & 3 & 12 \\\\ 3 & 20 & 0 & 2 \\\\ 11 & 3 & 3 & 6 \\\\ 1 & 8 & 1 & 10   \\end{pmatrix}$$"
      ]
    },
    {
      "cell_type": "markdown",
      "metadata": {
        "id": "i1lFQ95lHHp_"
      },
      "source": [
        "### Задача 2 (0.5)\n",
        "\n",
        "Рассмотрим задачу:\n",
        "\n",
        "Сколько существует 5-значных чисел, которые начинаются с цифры 2 или 4, содержат только четные цифры и при этом каждая цифра повторяется не более трёх раз?"
      ]
    },
    {
      "cell_type": "markdown",
      "metadata": {
        "id": "BsRKh50-HHp_"
      },
      "source": [
        "1. Приведите \"математическое\" решение этой задачи. (0.1).\n",
        "2. Напишите код на python, который перебирает все числа, проверяет, удовлетворяют ли они условию и в конце выводит количество нужных чисел. (0.4)"
      ]
    },
    {
      "cell_type": "code",
      "source": [],
      "metadata": {
        "id": "VCq9ZL-QUdB_"
      },
      "execution_count": null,
      "outputs": []
    },
    {
      "cell_type": "markdown",
      "metadata": {
        "id": "WXiChW49HHqA"
      },
      "source": [
        "### Задача 3 (1 балл)\n",
        "\n",
        "\n",
        "*Это задача на \"отлично (превосходит ожидания)\" по шкале перевода оценок НИУ ВШЭ:  https://www.hse.ru/studyspravka/Scale*\n",
        "\n",
        "*Но она на самом деле не такая уж сложная.*\n",
        "\n",
        "\n",
        "\n",
        "a. (0.8). Напишите свою функцию-реализацию метода Гаусса для решения систем линейных уравнений.\n",
        "\n",
        "Программа должна принимать на вход Матрицу A и вектор-столбец b и решать систему уравнений $Ax=b$.\n",
        "\n",
        "Вы можете самостотельно определить формат входных и выходных данных. Например, вы можете хранить A как двумерный numpy массив A или список списков, вектор-столбец b - как одномерный numpy-массив или список (list). Программа должна возвращать вектор x. Отдельно подумайте над ситуациями, когда решений нет или бесконечно много.\n",
        "\n",
        "Разрешено использовать numpy, но только для операций над массивами (нельзя использовать numpy.linalg, за исключением numpy.linalg.det, если понадобится).\n",
        "\n",
        "b. (0.2).Напишите свою функцию-реализацию метода Крамера для решения систем линейных уравнений.\n",
        "\n",
        "Все дополнительные условия - как в п.а. Если система не может быть решена методом Крамера, функция должна вывести соответствующее сообщение.\n",
        "\n"
      ]
    },
    {
      "cell_type": "code",
      "source": [],
      "metadata": {
        "id": "7JZqUwImc6_c"
      },
      "execution_count": null,
      "outputs": []
    },
    {
      "cell_type": "markdown",
      "metadata": {
        "id": "NwzGdKdNHHqB"
      },
      "source": [
        "### Задача 4 (1 балл)\n",
        "\n",
        "*Это задача на \"отлично (существенно превосходит ожидания)\" по шкале перевода оценок НИУ ВШЭ:  https://www.hse.ru/studyspravka/Scale*.\n",
        "\n",
        "*Даже из команды курса за неё не все готовы были бы взяться.*"
      ]
    },
    {
      "cell_type": "markdown",
      "metadata": {
        "id": "Pw_sKR_FJEwP"
      },
      "source": [
        "Система может находиться в одном из двух состояний $A$ или $B$. Экспериментатор умеет измерять косвенную величину $x$, которая поможет ему определить состояние, в котором находится система. Тем не менее, метод, которым экспериментатор измеряет величину $x$ обладает погрешностью. Будем считать, что функция распределения величины $x$ имеет гауссов вид, причем среднее значение равно $\\pm \\tilde x$ для состояний $A$ и $B$ соответственно, а дисперсия равна $\\sigma^2$ и не зависит от состояния:\n",
        "\n",
        "\\begin{equation}\n",
        "  P(x\\ |\\ A) = \\frac{1}{\\sqrt{2 \\pi \\sigma}}\\exp\\left(\\frac{-(x-\\tilde x)^2}{2 \\sigma^2}\\right), \\quad P(x\\ |\\ B) = \\frac{1}{\\sqrt{2 \\pi \\sigma}}\\exp\\left(\\frac{-(x+\\tilde x)^2}{2 \\sigma^2}\\right).\n",
        "\\end{equation}\n",
        "\n",
        "В случае, когда $\\sigma \\gg \\tilde x$ погрешность метода слишком велика и отдельное измерение не позволяет достоверно определить состояние, в котором находится система. Пусть $\\tilde x = 1$, $\\sigma = 10$ и каждое измерение не изменяет состояния системы. Предлагается выполнить $N$ измерений, чтобы определить состояние системы."
      ]
    },
    {
      "cell_type": "code",
      "execution_count": null,
      "metadata": {
        "id": "e6sTBdEsJDsS"
      },
      "outputs": [],
      "source": [
        "X_MEAN = 1\n",
        "SIGMA = 10"
      ]
    },
    {
      "cell_type": "markdown",
      "metadata": {
        "id": "DQHMQhYiI3zp"
      },
      "source": [
        "1. (0.3 Балла) Пусть априорные вероятности нахождения системы в состояниях A и B равны друг другу, $P(A) = P(B) = 1/2$. Сгенерируйте состояние системы, а затем проведите $N$ измерений величины $x$ в соотвествии с вероятностями, приведенными выше, получится массив $\\{x_1,x_2, \\dots, x_N\\}$. Изобразите результат на графике, по оси абсцисс отложите $i$ (номер измерения), а по оси ординат $x_i/\\tilde x$. Можно ли определить состояние системы по этому графику? Каким выбрать параметр $N$?"
      ]
    },
    {
      "cell_type": "code",
      "execution_count": null,
      "metadata": {
        "id": "aEtNcJo7JzPf"
      },
      "outputs": [],
      "source": [
        "#your code here"
      ]
    },
    {
      "cell_type": "markdown",
      "metadata": {
        "id": "-fXbtv6EI0Gl"
      },
      "source": [
        "2. (0.7 Баллов) Попробуем теперь вычислить вероятность нахождения системы в состоянии $A$ при условии проведенных измерений. Вероятность после первого измерения выражается с помощью формулы Байеса как\n",
        "\\begin{equation}\n",
        "  P(A\\ |\\ x_1) = \\frac{P(x_1\\ |\\ A) P(A)}{P(x_1)}, \\quad P(x_1) = P(x_1\\ |\\ A) P(A) + P(x_1\\ |\\ B) P(B).\n",
        "\\end{equation}\n",
        "В соответствии с этими формулами мы можем обновлять наше знание о вероятности нахождения системы в состоянии $A$ и $B$. В начале следующего шага $P(A) = P(A\\ |\\ x_1)$, $P(B) = 1 - P(A\\ |\\ x_1)$ и нам нужно будет учесть аналогичным образом уже измерение $x_2$, чтобы получить обновленнные вероятности. Постройте график $P(A)$ в зависимости от номера шага и прокомментируйте его. Подберите хорошее значение для параметра $N$, объясните свой выбор. Сравните результаты с первым пунктом."
      ]
    },
    {
      "cell_type": "code",
      "execution_count": null,
      "metadata": {
        "id": "NYXHhln1J0km"
      },
      "outputs": [],
      "source": [
        "#your code here"
      ]
    }
  ],
  "metadata": {
    "colab": {
      "provenance": [],
      "include_colab_link": true
    },
    "kernelspec": {
      "display_name": "Python 3",
      "name": "python3"
    },
    "language_info": {
      "codemirror_mode": {
        "name": "ipython",
        "version": 3
      },
      "file_extension": ".py",
      "mimetype": "text/x-python",
      "name": "python",
      "nbconvert_exporter": "python",
      "pygments_lexer": "ipython3",
      "version": "3.10.11"
    }
  },
  "nbformat": 4,
  "nbformat_minor": 0
}